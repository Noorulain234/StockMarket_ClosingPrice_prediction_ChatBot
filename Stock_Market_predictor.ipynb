{
  "nbformat": 4,
  "nbformat_minor": 0,
  "metadata": {
    "colab": {
      "provenance": [],
      "authorship_tag": "ABX9TyMYiFNu+I6/wJ0TBW5iE8iy",
      "include_colab_link": true
    },
    "kernelspec": {
      "name": "python3",
      "display_name": "Python 3"
    },
    "language_info": {
      "name": "python"
    }
  },
  "cells": [
    {
      "cell_type": "markdown",
      "metadata": {
        "id": "view-in-github",
        "colab_type": "text"
      },
      "source": [
        "<a href=\"https://colab.research.google.com/github/Noorulain234/StockMarket_ClosingPrice_prediction_ChatBot/blob/main/Stock_Market_predictor.ipynb\" target=\"_parent\"><img src=\"https://colab.research.google.com/assets/colab-badge.svg\" alt=\"Open In Colab\"/></a>"
      ]
    },
    {
      "cell_type": "code",
      "source": [
        "import yfinance as yf\n",
        "import pandas as pd\n",
        "import numpy as np"
      ],
      "metadata": {
        "id": "SeGSX10WUquZ"
      },
      "execution_count": null,
      "outputs": []
    },
    {
      "cell_type": "code",
      "source": [
        "from sklearn.linear_model import LinearRegression\n",
        "from datetime import datetime, timedelta"
      ],
      "metadata": {
        "id": "jeXeJgKwVjT2"
      },
      "execution_count": null,
      "outputs": []
    },
    {
      "cell_type": "code",
      "source": [
        "def fetch_stock_data(ticker):\n",
        "    end_date = datetime.now()\n",
        "    start_date = end_date - timedelta(days=60)  # Last 2 months data\n",
        "    data = yf.download(ticker, start=start_date, end=end_date, progress=False)\n",
        "    return data"
      ],
      "metadata": {
        "id": "8FIEn5KUVoBF"
      },
      "execution_count": null,
      "outputs": []
    },
    {
      "cell_type": "code",
      "source": [
        "def train_model(data):\n",
        "    data = data.reset_index()\n",
        "    data['Days'] = (data['Date'] - data['Date'].min()).dt.days\n",
        "    X = data[['Days']]\n",
        "    y = data['Close']\n",
        "\n",
        "    model = LinearRegression()\n",
        "    model.fit(X, y)\n",
        "\n",
        "    return model, data"
      ],
      "metadata": {
        "id": "2IWvSePOVrZa"
      },
      "execution_count": null,
      "outputs": []
    },
    {
      "cell_type": "code",
      "source": [
        "def predict_price(model, days_in_future):\n",
        "    future_day = np.array([[days_in_future]])\n",
        "    prediction = model.predict(future_day)\n",
        "    return prediction.item()"
      ],
      "metadata": {
        "id": "xUjVcI8tVu0S"
      },
      "execution_count": null,
      "outputs": []
    },
    {
      "cell_type": "code",
      "source": [
        "def chatbot():\n",
        "    print(\"🤖 Welcome to Mini Stock Predictor Bot!\")\n",
        "    print(\"-\" * 50)\n",
        "\n",
        "    while True:\n",
        "        user_input = input(\"\\n📈 Enter a stock ticker (or type 'exit' to quit): \").upper()\n",
        "\n",
        "        if user_input == 'EXIT':\n",
        "            print(\"👋 Goodbye! Happy investing!\")\n",
        "            break\n",
        "\n",
        "        try:\n",
        "            data = fetch_stock_data(user_input)\n",
        "            if data.empty:\n",
        "                print(\"⚠️ Couldn't fetch data. Try another ticker.\")\n",
        "                continue\n",
        "\n",
        "            model, processed_data = train_model(data)\n",
        "\n",
        "            last_day = processed_data['Days'].max()\n",
        "            next_day = last_day + 1\n",
        "            prediction = predict_price(model, next_day)\n",
        "\n",
        "            print(f\"✅ Predicted closing price for {user_input} tomorrow: **${prediction:.2f}**\")\n",
        "            print(\"-\" * 50)\n",
        "\n",
        "        except Exception as e:\n",
        "            print(f\"⚠️ Error: {e}\")\n",
        "            print(\"-\" * 50)\n",
        "\n",
        "\n",
        "\n",
        "\n",
        "\n",
        "\n",
        "\n"
      ],
      "metadata": {
        "id": "1LBTGrq4VyYb"
      },
      "execution_count": null,
      "outputs": []
    },
    {
      "cell_type": "code",
      "source": [
        "# Start the chatbot\n",
        "chatbot()"
      ],
      "metadata": {
        "colab": {
          "base_uri": "https://localhost:8080/"
        },
        "id": "pzaXxMsNV7U5",
        "outputId": "279c37d3-a2dd-4c33-a89e-8d8d314c8c6e"
      },
      "execution_count": null,
      "outputs": [
        {
          "output_type": "stream",
          "name": "stdout",
          "text": [
            "🤖 Welcome to Mini Stock Predictor Bot!\n",
            "--------------------------------------------------\n",
            "\n",
            "📈 Enter a stock ticker (or type 'exit' to quit): TSLA\n",
            "✅ Predicted closing price for TSLA tomorrow: **$248.25**\n",
            "--------------------------------------------------\n",
            "\n",
            "📈 Enter a stock ticker (or type 'exit' to quit): AAPL\n",
            "✅ Predicted closing price for AAPL tomorrow: **$191.40**\n",
            "--------------------------------------------------\n",
            "\n",
            "📈 Enter a stock ticker (or type 'exit' to quit): AMZN\n",
            "✅ Predicted closing price for AMZN tomorrow: **$174.51**\n",
            "--------------------------------------------------\n",
            "\n",
            "📈 Enter a stock ticker (or type 'exit' to quit): META\n",
            "✅ Predicted closing price for META tomorrow: **$499.83**\n",
            "--------------------------------------------------\n",
            "\n",
            "📈 Enter a stock ticker (or type 'exit' to quit): NVDA\n",
            "✅ Predicted closing price for NVDA tomorrow: **$102.42**\n",
            "--------------------------------------------------\n",
            "\n",
            "📈 Enter a stock ticker (or type 'exit' to quit): \tMSFT\n",
            "✅ Predicted closing price for \tMSFT tomorrow: **$372.62**\n",
            "--------------------------------------------------\n",
            "\n",
            "📈 Enter a stock ticker (or type 'exit' to quit): GOOG\n",
            "✅ Predicted closing price for GOOG tomorrow: **$152.46**\n",
            "--------------------------------------------------\n",
            "\n",
            "📈 Enter a stock ticker (or type 'exit' to quit): BRK-B\n",
            "✅ Predicted closing price for BRK-B tomorrow: **$527.45**\n",
            "--------------------------------------------------\n",
            "\n",
            "📈 Enter a stock ticker (or type 'exit' to quit): JPM\n",
            "✅ Predicted closing price for JPM tomorrow: **$230.16**\n",
            "--------------------------------------------------\n",
            "\n",
            "📈 Enter a stock ticker (or type 'exit' to quit): WMT\n",
            "✅ Predicted closing price for WMT tomorrow: **$90.26**\n",
            "--------------------------------------------------\n",
            "\n",
            "📈 Enter a stock ticker (or type 'exit' to quit): INTC\n",
            "✅ Predicted closing price for INTC tomorrow: **$19.99**\n",
            "--------------------------------------------------\n",
            "\n",
            "📈 Enter a stock ticker (or type 'exit' to quit): KO\n",
            "✅ Predicted closing price for KO tomorrow: **$72.08**\n",
            "--------------------------------------------------\n",
            "\n",
            "📈 Enter a stock ticker (or type 'exit' to quit): exit\n",
            "👋 Goodbye! Happy investing!\n"
          ]
        }
      ]
    },
    {
      "cell_type": "code",
      "source": [],
      "metadata": {
        "id": "35F_nOfpV8NA"
      },
      "execution_count": null,
      "outputs": []
    }
  ]
}